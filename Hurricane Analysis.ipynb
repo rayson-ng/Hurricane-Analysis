{
 "cells": [
  {
   "cell_type": "code",
   "execution_count": 2,
   "metadata": {},
   "outputs": [],
   "source": [
    "# names of hurricanes\n",
    "names = ['Cuba I', 'San Felipe II Okeechobee', 'Bahamas', 'Cuba II', 'CubaBrownsville', 'Tampico', 'Labor Day', 'New England', 'Carol', 'Janet', 'Carla', 'Hattie', 'Beulah', 'Camille', 'Edith', 'Anita', 'David', 'Allen', 'Gilbert', 'Hugo', 'Andrew', 'Mitch', 'Isabel', 'Ivan', 'Emily', 'Katrina', 'Rita', 'Wilma', 'Dean', 'Felix', 'Matthew', 'Irma', 'Maria', 'Michael']\n",
    "\n",
    "# months of hurricanes\n",
    "months = ['October', 'September', 'September', 'November', 'August', 'September', 'September', 'September', 'September', 'September', 'September', 'October', 'September', 'August', 'September', 'September', 'August', 'August', 'September', 'September', 'August', 'October', 'September', 'September', 'July', 'August', 'September', 'October', 'August', 'September', 'October', 'September', 'September', 'October']\n",
    "\n",
    "# years of hurricanes\n",
    "years = [1924, 1928, 1932, 1932, 1933, 1933, 1935, 1938, 1953, 1955, 1961, 1961, 1967, 1969, 1971, 1977, 1979, 1980, 1988, 1989, 1992, 1998, 2003, 2004, 2005, 2005, 2005, 2005, 2007, 2007, 2016, 2017, 2017, 2018]\n",
    "\n",
    "# maximum sustained winds (mph) of hurricanes\n",
    "max_sustained_winds = [165, 160, 160, 175, 160, 160, 185, 160, 160, 175, 175, 160, 160, 175, 160, 175, 175, 190, 185, 160, 175, 180, 165, 165, 160, 175, 180, 185, 175, 175, 165, 180, 175, 160]\n",
    "\n",
    "# areas affected by each hurricane\n",
    "areas_affected = [['Central America', 'Mexico', 'Cuba', 'Florida', 'The Bahamas'], ['Lesser Antilles', 'The Bahamas', 'United States East Coast', 'Atlantic Canada'], ['The Bahamas', 'Northeastern United States'], ['Lesser Antilles', 'Jamaica', 'Cayman Islands', 'Cuba', 'The Bahamas', 'Bermuda'], ['The Bahamas', 'Cuba', 'Florida', 'Texas', 'Tamaulipas'], ['Jamaica', 'Yucatn Peninsula'], ['The Bahamas', 'Florida', 'Georgia', 'The Carolinas', 'Virginia'], ['Southeastern United States', 'Northeastern United States', 'Southwestern Quebec'], ['Bermuda', 'New England', 'Atlantic Canada'], ['Lesser Antilles', 'Central America'], ['Texas', 'Louisiana', 'Midwestern United States'], ['Central America'], ['The Caribbean', 'Mexico', 'Texas'], ['Cuba', 'United States Gulf Coast'], ['The Caribbean', 'Central America', 'Mexico', 'United States Gulf Coast'], ['Mexico'], ['The Caribbean', 'United States East coast'], ['The Caribbean', 'Yucatn Peninsula', 'Mexico', 'South Texas'], ['Jamaica', 'Venezuela', 'Central America', 'Hispaniola', 'Mexico'], ['The Caribbean', 'United States East Coast'], ['The Bahamas', 'Florida', 'United States Gulf Coast'], ['Central America', 'Yucatn Peninsula', 'South Florida'], ['Greater Antilles', 'Bahamas', 'Eastern United States', 'Ontario'], ['The Caribbean', 'Venezuela', 'United States Gulf Coast'], ['Windward Islands', 'Jamaica', 'Mexico', 'Texas'], ['Bahamas', 'United States Gulf Coast'], ['Cuba', 'United States Gulf Coast'], ['Greater Antilles', 'Central America', 'Florida'], ['The Caribbean', 'Central America'], ['Nicaragua', 'Honduras'], ['Antilles', 'Venezuela', 'Colombia', 'United States East Coast', 'Atlantic Canada'], ['Cape Verde', 'The Caribbean', 'British Virgin Islands', 'U.S. Virgin Islands', 'Cuba', 'Florida'], ['Lesser Antilles', 'Virgin Islands', 'Puerto Rico', 'Dominican Republic', 'Turks and Caicos Islands'], ['Central America', 'United States Gulf Coast (especially Florida Panhandle)']]\n",
    "\n",
    "# damages (USD($)) of hurricanes\n",
    "damages = ['Damages not recorded', '100M', 'Damages not recorded', '40M', '27.9M', '5M', 'Damages not recorded', '306M', '2M', '65.8M', '326M', '60.3M', '208M', '1.42B', '25.4M', 'Damages not recorded', '1.54B', '1.24B', '7.1B', '10B', '26.5B', '6.2B', '5.37B', '23.3B', '1.01B', '125B', '12B', '29.4B', '1.76B', '720M', '15.1B', '64.8B', '91.6B', '25.1B']\n",
    "\n",
    "# deaths for each hurricane\n",
    "deaths = [90,4000,16,3103,179,184,408,682,5,1023,43,319,688,259,37,11,2068,269,318,107,65,19325,51,124,17,1836,125,87,45,133,603,138,3057,74]\n"
   ]
  },
  {
   "cell_type": "code",
   "execution_count": 3,
   "metadata": {},
   "outputs": [
    {
     "name": "stdout",
     "output_type": "stream",
     "text": [
      "['Damages not recorded', 100000000.0, 'Damages not recorded', 40000000.0, 27900000.0, 5000000.0, 'Damages not recorded', 306000000.0, 2000000.0, 65800000.0, 326000000.0, 60300000.0, 208000000.0, 1420000000.0, 25400000.0, 'Damages not recorded', 1540000000.0, 1240000000.0, 7100000000.0, 10000000000.0, 26500000000.0, 6200000000.0, 5370000000.0, 23300000000.0, 1010000000.0, 125000000000.0, 12000000000.0, 29400000000.0, 1760000000.0, 720000000.0, 15100000000.0, 64800000000.0, 91600000000.0, 25100000000.0]\n"
     ]
    }
   ],
   "source": [
    "# write your update damages function here:\n",
    "\n",
    "def updated_damages(value):\n",
    "    conversion = {\"M\" : 10 ** 6, \"B\" : 10 ** 9}\n",
    "    updated_damages_cost = []\n",
    "    for damage in value:\n",
    "        if damage == \"Damages not recorded\":\n",
    "            updated_damages_cost.append(damage)\n",
    "        elif damage.endswith(\"M\"):\n",
    "            damage = damage.strip(\"M\")\n",
    "            damage = float(damage) * conversion[\"M\"]\n",
    "            updated_damages_cost.append(damage)\n",
    "        elif damage.endswith(\"B\"):\n",
    "            damage = damage.strip(\"B\")\n",
    "            damage = float(damage) * conversion[\"B\"]\n",
    "            updated_damages_cost.append(damage)\n",
    "    return updated_damages_cost\n",
    "\n",
    "updated_damages_cost = updated_damages(damages)\n",
    "\n",
    "print(updated_damages_cost)"
   ]
  },
  {
   "cell_type": "code",
   "execution_count": 4,
   "metadata": {},
   "outputs": [],
   "source": [
    "# write your construct hurricane dictionary function here:\n",
    "\n",
    "def compiled_data(names, months, years, max_sustained_winds, areas_affected, updated_damages_cost, deaths):\n",
    "    hurricanes = {}\n",
    "    for i in range(len(names)):\n",
    "        hurricanes[names[i]] = {\"Name\": names[i], \"Months\" : months[i], \"Years\" : years[i], \"Max Sustained Wind\" : max_sustained_winds[i], \"Areas affected\" : areas_affected[i], \"Updated Damages Cost\" : updated_damages_cost[i], \"Deaths\" : deaths[i]}\n",
    "    return hurricanes\n",
    "\n",
    "hurricanes = compiled_data(names, months, years, max_sustained_winds, areas_affected, updated_damages_cost, deaths)\n",
    "\n",
    "#print(hurricanes)\n",
    "#print(hurricanes[\"Wilma\"])"
   ]
  },
  {
   "cell_type": "code",
   "execution_count": 5,
   "metadata": {},
   "outputs": [],
   "source": [
    "# shorter code, without function\n",
    "# hurricanes = dict(zip(names, zip(months, years, max_sustained_winds, areas_affected, updated_damages_cost, deaths)))"
   ]
  },
  {
   "cell_type": "code",
   "execution_count": 6,
   "metadata": {},
   "outputs": [
    {
     "name": "stdout",
     "output_type": "stream",
     "text": [
      "[{'Name': 'Bahamas', 'Months': 'September', 'Years': 1932, 'Max Sustained Wind': 160, 'Areas affected': ['The Bahamas', 'Northeastern United States'], 'Updated Damages Cost': 'Damages not recorded', 'Deaths': 16}, {'Name': 'Cuba II', 'Months': 'November', 'Years': 1932, 'Max Sustained Wind': 175, 'Areas affected': ['Lesser Antilles', 'Jamaica', 'Cayman Islands', 'Cuba', 'The Bahamas', 'Bermuda'], 'Updated Damages Cost': 40000000.0, 'Deaths': 3103}]\n"
     ]
    }
   ],
   "source": [
    "# write your construct hurricane by year dictionary function here:\n",
    "def hurricane_by_year(year):\n",
    "    hurricane_by_year = []\n",
    "    for i in hurricanes:\n",
    "        if year == hurricanes[i][\"Years\"]:\n",
    "            hurricane_by_year.append(hurricanes[i])\n",
    "    return hurricane_by_year\n",
    "\n",
    "print(hurricane_by_year(1932))        "
   ]
  },
  {
   "cell_type": "code",
   "execution_count": 7,
   "metadata": {},
   "outputs": [
    {
     "name": "stdout",
     "output_type": "stream",
     "text": [
      "Counter({'Central America': 9, 'The Caribbean': 8, 'Mexico': 7, 'The Bahamas': 7, 'Cuba': 6, 'Florida': 6, 'United States Gulf Coast': 6, 'Lesser Antilles': 4, 'Jamaica': 4, 'Texas': 4, 'United States East Coast': 3, 'Atlantic Canada': 3, 'Yucatn Peninsula': 3, 'Venezuela': 3, 'Northeastern United States': 2, 'Bermuda': 2, 'Greater Antilles': 2, 'Bahamas': 2, 'Cayman Islands': 1, 'Tamaulipas': 1, 'Georgia': 1, 'The Carolinas': 1, 'Virginia': 1, 'Southeastern United States': 1, 'Southwestern Quebec': 1, 'New England': 1, 'Louisiana': 1, 'Midwestern United States': 1, 'United States East coast': 1, 'South Texas': 1, 'Hispaniola': 1, 'South Florida': 1, 'Eastern United States': 1, 'Ontario': 1, 'Windward Islands': 1, 'Nicaragua': 1, 'Honduras': 1, 'Antilles': 1, 'Colombia': 1, 'Cape Verde': 1, 'British Virgin Islands': 1, 'U.S. Virgin Islands': 1, 'Virgin Islands': 1, 'Puerto Rico': 1, 'Dominican Republic': 1, 'Turks and Caicos Islands': 1, 'United States Gulf Coast (especially Florida Panhandle)': 1})\n"
     ]
    }
   ],
   "source": [
    "# write your count affected areas function here:\n",
    "# using modules collection - Counter to count\n",
    "from collections import Counter\n",
    "\n",
    "def count_affected():\n",
    "    areas_affected_list = []\n",
    "    for i in areas_affected:\n",
    "        for x in i:\n",
    "            areas_affected_list.append(x)\n",
    "    return areas_affected_list\n",
    "\n",
    "areas_affected_list = count_affected()\n",
    "areas_count = Counter(areas_affected_list)\n",
    "print (areas_count)\n",
    "                           "
   ]
  },
  {
   "cell_type": "code",
   "execution_count": 8,
   "metadata": {},
   "outputs": [
    {
     "name": "stdout",
     "output_type": "stream",
     "text": [
      "{'Central America': 9, 'Mexico': 7, 'Cuba': 6, 'Florida': 6, 'The Bahamas': 7, 'Lesser Antilles': 4, 'United States East Coast': 3, 'Atlantic Canada': 3, 'Northeastern United States': 2, 'Jamaica': 4, 'Cayman Islands': 1, 'Bermuda': 2, 'Texas': 4, 'Tamaulipas': 1, 'Yucatn Peninsula': 3, 'Georgia': 1, 'The Carolinas': 1, 'Virginia': 1, 'Southeastern United States': 1, 'Southwestern Quebec': 1, 'New England': 1, 'Louisiana': 1, 'Midwestern United States': 1, 'The Caribbean': 8, 'United States Gulf Coast': 6, 'United States East coast': 1, 'South Texas': 1, 'Venezuela': 3, 'Hispaniola': 1, 'South Florida': 1, 'Greater Antilles': 2, 'Bahamas': 2, 'Eastern United States': 1, 'Ontario': 1, 'Windward Islands': 1, 'Nicaragua': 1, 'Honduras': 1, 'Antilles': 1, 'Colombia': 1, 'Cape Verde': 1, 'British Virgin Islands': 1, 'U.S. Virgin Islands': 1, 'Virgin Islands': 1, 'Puerto Rico': 1, 'Dominican Republic': 1, 'Turks and Caicos Islands': 1, 'United States Gulf Coast (especially Florida Panhandle)': 1}\n"
     ]
    }
   ],
   "source": [
    "# write your count affected areas function here:\n",
    "## using count method\n",
    "areas_affected_count = {}\n",
    "for areas in areas_affected:\n",
    "    for i in areas:\n",
    "        if i not in areas_affected_count:\n",
    "            areas_affected_count[i] = 1\n",
    "        else:\n",
    "            areas_affected_count[i] +=1\n",
    "            \n",
    "print(areas_affected_count)"
   ]
  },
  {
   "cell_type": "code",
   "execution_count": 9,
   "metadata": {},
   "outputs": [
    {
     "name": "stdout",
     "output_type": "stream",
     "text": [
      "('Central America', 9)\n"
     ]
    }
   ],
   "source": [
    "# write your find most affected area function here:\n",
    "\n",
    "def filter_most_affected(areas_affected_count):\n",
    "    most_affected = \"\"\n",
    "    most_affected_count = 0\n",
    "    for i in areas_affected_count:\n",
    "        if areas_affected_count[i] > most_affected_count:\n",
    "            most_affected_count = areas_affected_count[i]\n",
    "            most_affected = i\n",
    "    return most_affected, most_affected_count\n",
    "\n",
    "print (filter_most_affected(areas_affected_count))"
   ]
  },
  {
   "cell_type": "code",
   "execution_count": 13,
   "metadata": {},
   "outputs": [
    {
     "name": "stdout",
     "output_type": "stream",
     "text": [
      "('Mitch', 19325)\n"
     ]
    }
   ],
   "source": [
    "# write your greatest number of deaths function here:\n",
    "\n",
    "hurricane_death = dict(zip(names, deaths))\n",
    "def filter_highest_death(hurricane_death):\n",
    "    most_hurricane_death = \"\"\n",
    "    most_death_count = 0\n",
    "    for i in hurricane_death:\n",
    "        if hurricane_death[i] > most_death_count:\n",
    "            most_hurricane_death = i\n",
    "            most_death_count = hurricane_death[i]\n",
    "    return most_hurricane_death, most_death_count\n",
    "\n",
    "print(filter_highest_death(hurricane_death))"
   ]
  },
  {
   "cell_type": "code",
   "execution_count": 43,
   "metadata": {},
   "outputs": [
    {
     "name": "stdout",
     "output_type": "stream",
     "text": [
      "{0: ['Cuba I', 'Bahamas', 'Carol', 'Carla', 'Edith', 'Anita', 'Andrew', 'Isabel', 'Emily', 'Wilma', 'Dean', 'Michael'], 1: ['CubaBrownsville', 'Tampico', 'Labor Day', 'Hattie', 'Camille', 'Allen', 'Gilbert', 'Hugo', 'Ivan', 'Rita', 'Felix', 'Irma'], 2: ['New England', 'Beulah', 'Matthew'], 3: ['San Felipe II Okeechobee', 'Cuba II', 'Janet', 'David', 'Katrina', 'Maria'], 4: ['Mitch'], 5: []}\n"
     ]
    }
   ],
   "source": [
    "# write your catgeorize by mortality function here:\n",
    "\n",
    "mortality_scale = {0: 0, 1: 100, 2: 500, 3: 1000, 4: 10000, 5:100000}\n",
    "\n",
    "hurricanes_by_mortality = {0:[],1:[],2:[],3:[],4:[],5:[]}\n",
    "\n",
    "def mortality_rating(hurricane_death):\n",
    "    for i in hurricane_death:\n",
    "        if hurricane_death[i] >= mortality_scale[5]:\n",
    "            hurricanes_by_mortality[5].append(i)\n",
    "        elif hurricane_death[i] >= mortality_scale[4]:\n",
    "            hurricanes_by_mortality[4].append(i)\n",
    "        elif hurricane_death[i] >= mortality_scale[3]:\n",
    "            hurricanes_by_mortality[3].append(i)\n",
    "        elif hurricane_death[i] >= mortality_scale[2]:\n",
    "            hurricanes_by_mortality[2].append(i)\n",
    "        elif hurricane_death[i] >= mortality_scale[1]:\n",
    "            hurricanes_by_mortality[1].append(i)\n",
    "        else:\n",
    "            hurricanes_by_mortality[0].append(i)\n",
    "    return hurricanes_by_mortality\n",
    "\n",
    "print(mortality_rating(hurricane_death))"
   ]
  },
  {
   "cell_type": "code",
   "execution_count": 50,
   "metadata": {},
   "outputs": [
    {
     "name": "stdout",
     "output_type": "stream",
     "text": [
      "('Katrina', 125000000000.0)\n"
     ]
    }
   ],
   "source": [
    "# write your greatest damage function here:\n",
    "updated_damages_cost = [0 if i == \"Damages not recorded\" else i for i in updated_damages_cost ]\n",
    "hurricane_dmg = dict(zip(names, updated_damages_cost))\n",
    "def filter_highest_damages(hurricane_dmg):\n",
    "    most_hurricane_dmg = \"\"\n",
    "    most_dmg_count = 0\n",
    "    for i in hurricane_dmg:\n",
    "        if hurricane_dmg[i] > most_dmg_count:\n",
    "            most_hurricane_dmg = i\n",
    "            most_dmg_count = hurricane_dmg[i]\n",
    "    return most_hurricane_dmg, most_dmg_count\n",
    "\n",
    "print(filter_highest_damages(hurricane_dmg))"
   ]
  },
  {
   "cell_type": "code",
   "execution_count": 53,
   "metadata": {},
   "outputs": [
    {
     "name": "stdout",
     "output_type": "stream",
     "text": [
      "{0: [], 1: ['Cuba I', 'Bahamas', 'Cuba II', 'CubaBrownsville', 'Tampico', 'Labor Day', 'Carol', 'Janet', 'Hattie', 'Edith', 'Anita'], 2: ['San Felipe II Okeechobee', 'New England', 'Carla', 'Beulah', 'Felix'], 3: ['Camille', 'David', 'Allen', 'Gilbert', 'Mitch', 'Isabel', 'Emily', 'Dean'], 4: ['Hugo', 'Andrew', 'Ivan', 'Rita', 'Wilma', 'Matthew', 'Michael'], 5: ['Katrina', 'Irma', 'Maria']}\n"
     ]
    }
   ],
   "source": [
    "# write your catgeorize by damage function here:\n",
    "damage_scale = {0: 0, 1: 100000000, 2: 1000000000, 3: 10000000000, 4: 50000000000}\n",
    "hurricanes_by_dmgcost = {0:[],1:[],2:[],3:[],4:[],5:[]}\n",
    "def dmgcost_rating(hurricane_dmg):\n",
    "    for i in hurricane_dmg:\n",
    "        if hurricane_dmg[i] >= damage_scale[4]:\n",
    "            hurricanes_by_dmgcost[5].append(i)\n",
    "        elif hurricane_dmg[i] >= damage_scale[3]:\n",
    "            hurricanes_by_dmgcost[4].append(i)\n",
    "        elif hurricane_dmg[i] >= damage_scale[2]:\n",
    "            hurricanes_by_dmgcost[3].append(i)\n",
    "        elif hurricane_dmg[i] >= damage_scale[1]:\n",
    "            hurricanes_by_dmgcost[2].append(i)\n",
    "        elif hurricane_dmg[i] >= damage_scale[0]:\n",
    "            hurricanes_by_dmgcost[1].append(i)\n",
    "        else:\n",
    "            hurricanes_by_dmgcost[5]\n",
    "    return hurricanes_by_dmgcost\n",
    "\n",
    "print(dmgcost_rating(hurricane_dmg))"
   ]
  },
  {
   "cell_type": "code",
   "execution_count": 52,
   "metadata": {},
   "outputs": [
    {
     "name": "stdout",
     "output_type": "stream",
     "text": [
      "{'Cuba I': 0, 'San Felipe II Okeechobee': 100000000.0, 'Bahamas': 0, 'Cuba II': 40000000.0, 'CubaBrownsville': 27900000.0, 'Tampico': 5000000.0, 'Labor Day': 0, 'New England': 306000000.0, 'Carol': 2000000.0, 'Janet': 65800000.0, 'Carla': 326000000.0, 'Hattie': 60300000.0, 'Beulah': 208000000.0, 'Camille': 1420000000.0, 'Edith': 25400000.0, 'Anita': 0, 'David': 1540000000.0, 'Allen': 1240000000.0, 'Gilbert': 7100000000.0, 'Hugo': 10000000000.0, 'Andrew': 26500000000.0, 'Mitch': 6200000000.0, 'Isabel': 5370000000.0, 'Ivan': 23300000000.0, 'Emily': 1010000000.0, 'Katrina': 125000000000.0, 'Rita': 12000000000.0, 'Wilma': 29400000000.0, 'Dean': 1760000000.0, 'Felix': 720000000.0, 'Matthew': 15100000000.0, 'Irma': 64800000000.0, 'Maria': 91600000000.0, 'Michael': 25100000000.0}\n"
     ]
    }
   ],
   "source": [
    "print(hurricane_dmg)"
   ]
  }
 ],
 "metadata": {
  "kernelspec": {
   "display_name": "Python 3",
   "language": "python",
   "name": "python3"
  },
  "language_info": {
   "codemirror_mode": {
    "name": "ipython",
    "version": 3
   },
   "file_extension": ".py",
   "mimetype": "text/x-python",
   "name": "python",
   "nbconvert_exporter": "python",
   "pygments_lexer": "ipython3",
   "version": "3.8.3"
  }
 },
 "nbformat": 4,
 "nbformat_minor": 4
}
